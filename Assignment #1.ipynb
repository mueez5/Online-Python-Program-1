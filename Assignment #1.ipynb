{
 "cells": [
  {
   "cell_type": "code",
   "execution_count": 1,
   "id": "5be1f8e6",
   "metadata": {},
   "outputs": [
    {
     "name": "stdout",
     "output_type": "stream",
     "text": [
      "           Twinkle, twinkle, little star,\n",
      "                         How I wonder what you are!\n",
      "                                      Up above the world so high,\n",
      "                                      Like a diamond in the sky.\n",
      "           Twinkle, twinkle, little star,\n",
      "                         How I wonder what you are\n"
     ]
    }
   ],
   "source": [
    "print(\"           Twinkle, twinkle, little star,\")\n",
    "print(\"                         How I wonder what you are!\")\n",
    "print(\"                                      Up above the world so high,\")\n",
    "print(\"                                      Like a diamond in the sky.\")\n",
    "print(\"           Twinkle, twinkle, little star,\")\n",
    "print(\"                         How I wonder what you are\")"
   ]
  },
  {
   "cell_type": "code",
   "execution_count": 2,
   "id": "83c6bedc",
   "metadata": {},
   "outputs": [
    {
     "ename": "SyntaxError",
     "evalue": "invalid character '“' (U+201C) (Temp/ipykernel_5836/1785341069.py, line 1)",
     "output_type": "error",
     "traceback": [
      "\u001b[1;36m  File \u001b[1;32m\"C:\\Users\\hh\\AppData\\Local\\Temp/ipykernel_5836/1785341069.py\"\u001b[1;36m, line \u001b[1;32m1\u001b[0m\n\u001b[1;33m    print(“Python Version”)\u001b[0m\n\u001b[1;37m          ^\u001b[0m\n\u001b[1;31mSyntaxError\u001b[0m\u001b[1;31m:\u001b[0m invalid character '“' (U+201C)\n"
     ]
    }
   ],
   "source": [
    "print(“Python Version”)\n",
    "print(sys.version)\n",
    "print(“Version Information”)\n",
    "print(sys.version_info)"
   ]
  },
  {
   "cell_type": "code",
   "execution_count": 3,
   "id": "021fae7f",
   "metadata": {},
   "outputs": [
    {
     "name": "stdout",
     "output_type": "stream",
     "text": [
      "Current Time = 19:22:46\n"
     ]
    }
   ],
   "source": [
    "from datetime import datetime\n",
    "now = datetime.now()\n",
    "current_time = now.strftime(\"%H:%M:%S\")\n",
    "print(\"Current Time =\", current_time)"
   ]
  },
  {
   "cell_type": "code",
   "execution_count": 4,
   "id": "0dec530b",
   "metadata": {},
   "outputs": [
    {
     "name": "stdout",
     "output_type": "stream",
     "text": [
      "Today's date: 2022-01-01\n"
     ]
    }
   ],
   "source": [
    "from datetime import date\n",
    "\n",
    "today = date.today()\n",
    "print(\"Today's date:\", today)\n"
   ]
  },
  {
   "cell_type": "code",
   "execution_count": 5,
   "id": "91762cdf",
   "metadata": {},
   "outputs": [
    {
     "name": "stdout",
     "output_type": "stream",
     "text": [
      "Input the radius of the circle : 8\n",
      "The area of the circle with radius 8.0 is: 201.06192982974676\n"
     ]
    }
   ],
   "source": [
    "# import math module\n",
    "from math import pi\n",
    "\n",
    "# take input from user\n",
    "radius = float(input (\"Input the radius of the circle : \"))\n",
    "\n",
    "# compute the area from radius of a circle given by user\n",
    "calculateArea = str(pi * radius**2);\n",
    "\n",
    "#print result\n",
    "print (\"The area of the circle with radius \" + str(radius) + \" is: \" + calculateArea)"
   ]
  },
  {
   "cell_type": "code",
   "execution_count": 6,
   "id": "91d7a484",
   "metadata": {},
   "outputs": [
    {
     "name": "stdout",
     "output_type": "stream",
     "text": [
      "Input your First Name : Abdul\n",
      "Input your Last Name : Mueez\n",
      "Mueez Abdul\n"
     ]
    }
   ],
   "source": [
    "firstname = input(\"Input your First Name : \")\n",
    "lastname = input(\"Input your Last Name : \")\n",
    "print ( lastname + \" \" + firstname)"
   ]
  },
  {
   "cell_type": "code",
   "execution_count": 7,
   "id": "d005ac64",
   "metadata": {},
   "outputs": [
    {
     "name": "stdout",
     "output_type": "stream",
     "text": [
      "Sum of 15 and 12 is 27\n"
     ]
    }
   ],
   "source": [
    "num1 = 15\n",
    "num2 = 12\n",
    "\n",
    "# Adding two nos\n",
    "sum = num1 + num2\n",
    "\n",
    "# printing values\n",
    "print(\"Sum of {0} and {1} is {2}\" .format(num1, num2, sum))"
   ]
  }
 ],
 "metadata": {
  "kernelspec": {
   "display_name": "Python 3 (ipykernel)",
   "language": "python",
   "name": "python3"
  },
  "language_info": {
   "codemirror_mode": {
    "name": "ipython",
    "version": 3
   },
   "file_extension": ".py",
   "mimetype": "text/x-python",
   "name": "python",
   "nbconvert_exporter": "python",
   "pygments_lexer": "ipython3",
   "version": "3.9.7"
  }
 },
 "nbformat": 4,
 "nbformat_minor": 5
}
